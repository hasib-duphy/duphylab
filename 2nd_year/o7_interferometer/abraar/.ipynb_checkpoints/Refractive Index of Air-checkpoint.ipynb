{
 "cells": [
  {
   "cell_type": "code",
   "execution_count": 17,
   "id": "8ceb68d8-2787-4efd-936c-5d75e50e4ca1",
   "metadata": {},
   "outputs": [],
   "source": [
    "import numpy as np\n",
    "import pandas as pd\n",
    "from scipy.optimize import curve_fit\n",
    "from scipy import odr\n",
    "import matplotlib.pyplot as plt"
   ]
  },
  {
   "cell_type": "markdown",
   "id": "23f662b6-2bd2-41e2-b601-390f31280d6d",
   "metadata": {},
   "source": [
    "## Linear Curve Fitting for Change in Pressure vs Fringe Count\n",
    "\n",
    "\\begin{align}\n",
    "\\mu &= 1 + \\frac{N \\lambda P_a}{2l\\Delta{P}} \\\\[8 pt]\n",
    "\\Delta{P} &= \\frac{\\lambda P_a}{2l(\\mu-1)}N\n",
    "\\end{align}"
   ]
  },
  {
   "cell_type": "code",
   "execution_count": 7,
   "id": "575f23c1-3b92-4444-a25c-e579130559fb",
   "metadata": {},
   "outputs": [
    {
     "data": {
      "text/html": [
       "<div>\n",
       "<style scoped>\n",
       "    .dataframe tbody tr th:only-of-type {\n",
       "        vertical-align: middle;\n",
       "    }\n",
       "\n",
       "    .dataframe tbody tr th {\n",
       "        vertical-align: top;\n",
       "    }\n",
       "\n",
       "    .dataframe thead th {\n",
       "        text-align: right;\n",
       "    }\n",
       "</style>\n",
       "<table border=\"1\" class=\"dataframe\">\n",
       "  <thead>\n",
       "    <tr style=\"text-align: right;\">\n",
       "      <th></th>\n",
       "      <th>n</th>\n",
       "      <th>P (mmHg)</th>\n",
       "      <th>ΔP (mmHg)</th>\n",
       "    </tr>\n",
       "  </thead>\n",
       "  <tbody>\n",
       "    <tr>\n",
       "      <th>0</th>\n",
       "      <td>0</td>\n",
       "      <td>300</td>\n",
       "      <td>0</td>\n",
       "    </tr>\n",
       "    <tr>\n",
       "      <th>1</th>\n",
       "      <td>2</td>\n",
       "      <td>276</td>\n",
       "      <td>24</td>\n",
       "    </tr>\n",
       "    <tr>\n",
       "      <th>2</th>\n",
       "      <td>4</td>\n",
       "      <td>250</td>\n",
       "      <td>50</td>\n",
       "    </tr>\n",
       "    <tr>\n",
       "      <th>3</th>\n",
       "      <td>6</td>\n",
       "      <td>228</td>\n",
       "      <td>72</td>\n",
       "    </tr>\n",
       "    <tr>\n",
       "      <th>4</th>\n",
       "      <td>8</td>\n",
       "      <td>206</td>\n",
       "      <td>94</td>\n",
       "    </tr>\n",
       "    <tr>\n",
       "      <th>5</th>\n",
       "      <td>10</td>\n",
       "      <td>184</td>\n",
       "      <td>116</td>\n",
       "    </tr>\n",
       "    <tr>\n",
       "      <th>6</th>\n",
       "      <td>12</td>\n",
       "      <td>160</td>\n",
       "      <td>140</td>\n",
       "    </tr>\n",
       "    <tr>\n",
       "      <th>7</th>\n",
       "      <td>14</td>\n",
       "      <td>138</td>\n",
       "      <td>162</td>\n",
       "    </tr>\n",
       "    <tr>\n",
       "      <th>8</th>\n",
       "      <td>16</td>\n",
       "      <td>114</td>\n",
       "      <td>186</td>\n",
       "    </tr>\n",
       "    <tr>\n",
       "      <th>9</th>\n",
       "      <td>18</td>\n",
       "      <td>94</td>\n",
       "      <td>206</td>\n",
       "    </tr>\n",
       "    <tr>\n",
       "      <th>10</th>\n",
       "      <td>20</td>\n",
       "      <td>72</td>\n",
       "      <td>228</td>\n",
       "    </tr>\n",
       "  </tbody>\n",
       "</table>\n",
       "</div>"
      ],
      "text/plain": [
       "     n  P (mmHg)  ΔP (mmHg)\n",
       "0    0       300          0\n",
       "1    2       276         24\n",
       "2    4       250         50\n",
       "3    6       228         72\n",
       "4    8       206         94\n",
       "5   10       184        116\n",
       "6   12       160        140\n",
       "7   14       138        162\n",
       "8   16       114        186\n",
       "9   18        94        206\n",
       "10  20        72        228"
      ]
     },
     "execution_count": 7,
     "metadata": {},
     "output_type": "execute_result"
    }
   ],
   "source": [
    "pressure = [300, 276, 250, 228, 206, 184, 160, 138, 114, 94, 72]\n",
    "df = pd.dfFrame({'n': np.arange(0,22,2), 'P (mmHg)': pressure})\n",
    "\n",
    "df['ΔP (mmHg)'] = df.loc[0, 'P (mmHg)'] - df['P (mmHg)']\n",
    "\n",
    "P_a = 753\n",
    "λ = 632.8e-9\n",
    "l = 80e-3\n",
    "\n",
    "df.to_csv(\"df.csv\", index=False)\n",
    "df"
   ]
  },
  {
   "cell_type": "code",
   "execution_count": 16,
   "id": "a08ee9b2-d6f9-4bc0-91ff-d4a3c92026c7",
   "metadata": {},
   "outputs": [
    {
     "name": "stdout",
     "output_type": "stream",
     "text": [
      "mu =  1.000258\n",
      "error in mu = 0.000001\n"
     ]
    },
    {
     "data": {
      "image/png": "[encoded data removed]",
      "text/plain": [
       "<Figure size 640x480 with 1 Axes>"
      ]
     },
     "metadata": {},
     "output_type": "display_data"
    }
   ],
   "source": [
    "x = df['n'].to_numpy()\n",
    "y = df['ΔP (mmHg)'].to_numpy()\n",
    "\n",
    "def model(n, mu):\n",
    "    return ((λ*P_a)/(2*l*(mu-1)))*n\n",
    "\n",
    "param, param_cov = curve_fit(model, x, y, [1.1])\n",
    "print('mu = ', round(param[0], 6))\n",
    "print(f'error in mu = {np.sqrt(param_cov[0,0]):.6f}')\n",
    "\n",
    "x_model = np.linspace(0, x[-1], 10)\n",
    "y_model = model(x_model, param[0])\n",
    "\n",
    "plt.plot(x, y, '.', color='red', label='df')\n",
    "plt.plot(x_model, y_model, '-', color='blue', label='Curve Fit')\n",
    "plt.legend()\n",
    "plt.show()"
   ]
  },
  {
   "cell_type": "code",
   "execution_count": 36,
   "id": "4acec0c5-6a98-4b76-8109-e31a5c121c6e",
   "metadata": {},
   "outputs": [
    {
     "name": "stdout",
     "output_type": "stream",
     "text": [
      "Beta: [11.55031453]\n",
      "Beta Std Error: [0.05188644]\n",
      "Beta Covariance: [[0.00743701]]\n",
      "Residual Variance: 0.36200081681557855\n",
      "Inverse Condition #: 1.0\n",
      "Reason(s) for Halting:\n",
      "  Sum of squares convergence\n",
      "1.0002578384329843\n",
      "1.4856682528521586e-06\n"
     ]
    }
   ],
   "source": [
    "def model2(A, x):\n",
    "    return A[0]*x\n",
    "\n",
    "linear = odr.Model(model2)\n",
    "data = odr.RealData(x, y, sx=0.5/np.sqrt(3), sy = 1/np.sqrt(3))\n",
    "myodr = odr.ODR(data, linear, beta0=[1.1])\n",
    "odr_output = myodr.run()\n",
    "odr_output.pprint()\n",
    "\n",
    "mu = 1 + (λ*P_a)/(2*l*odr_output.beta[0])\n",
    "s_mu = (mu-1)*np.sqrt((odr_output.sd_beta[0]/odr_output.beta[0])**2 + (1e-3/(l*np.sqrt(12)))**2)\n",
    "print(mu)\n",
    "print(s_mu)"
   ]
  },
  {
   "cell_type": "code",
   "execution_count": null,
   "id": "894e927e-66b0-4c37-9918-5893f7c98257",
   "metadata": {},
   "outputs": [],
   "source": []
  }
 ],
 "metadata": {
  "kernelspec": {
   "display_name": "Python 3 (ipykernel)",
   "language": "python",
   "name": "python3"
  },
  "language_info": {
   "codemirror_mode": {
    "name": "ipython",
    "version": 3
   },
   "file_extension": ".py",
   "mimetype": "text/x-python",
   "name": "python",
   "nbconvert_exporter": "python",
   "pygments_lexer": "ipython3",
   "version": "3.11.6"
  }
 },
 "nbformat": 4,
 "nbformat_minor": 5
}
