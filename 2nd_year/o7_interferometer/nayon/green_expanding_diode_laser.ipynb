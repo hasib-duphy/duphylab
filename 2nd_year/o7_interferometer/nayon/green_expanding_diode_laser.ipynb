{
 "cells": [
  {
   "cell_type": "code",
   "execution_count": 1,
   "id": "016cc5f3-be35-45fa-85d1-4f60bd2eb20b",
   "metadata": {},
   "outputs": [],
   "source": [
    "import numpy as np\n",
    "import pandas as pd\n",
    "from scipy.optimize import curve_fit\n",
    "import matplotlib.pyplot as plt"
   ]
  },
  {
   "cell_type": "markdown",
   "id": "35051a77-28b9-404a-99f8-7dc9be8e4c3d",
   "metadata": {},
   "source": [
    "### Green Diode Laser\n",
    "### Green Laser wavelength (expanding)\n",
    "#### $$λ_{green\\_expanding} = \\frac{2 \\Delta D}{fn}$$\n",
    "#### $$ \\Delta D = \\frac{fλ}{2} n $$"
   ]
  },
  {
   "cell_type": "code",
   "execution_count": 6,
   "id": "d9bc69cf-6006-45da-baa4-8f298277185f",
   "metadata": {},
   "outputs": [
    {
     "data": {
      "text/html": [
       "<div>\n",
       "<style scoped>\n",
       "    .dataframe tbody tr th:only-of-type {\n",
       "        vertical-align: middle;\n",
       "    }\n",
       "\n",
       "    .dataframe tbody tr th {\n",
       "        vertical-align: top;\n",
       "    }\n",
       "\n",
       "    .dataframe thead th {\n",
       "        text-align: right;\n",
       "    }\n",
       "</style>\n",
       "<table border=\"1\" class=\"dataframe\">\n",
       "  <thead>\n",
       "    <tr style=\"text-align: right;\">\n",
       "      <th></th>\n",
       "      <th>n</th>\n",
       "      <th>D (mm)</th>\n",
       "      <th>ΔD (mm)</th>\n",
       "    </tr>\n",
       "  </thead>\n",
       "  <tbody>\n",
       "    <tr>\n",
       "      <th>0</th>\n",
       "      <td>0</td>\n",
       "      <td>26.10</td>\n",
       "      <td>0.00</td>\n",
       "    </tr>\n",
       "    <tr>\n",
       "      <th>1</th>\n",
       "      <td>20</td>\n",
       "      <td>25.98</td>\n",
       "      <td>0.12</td>\n",
       "    </tr>\n",
       "    <tr>\n",
       "      <th>2</th>\n",
       "      <td>40</td>\n",
       "      <td>25.86</td>\n",
       "      <td>0.24</td>\n",
       "    </tr>\n",
       "    <tr>\n",
       "      <th>3</th>\n",
       "      <td>60</td>\n",
       "      <td>25.75</td>\n",
       "      <td>0.35</td>\n",
       "    </tr>\n",
       "    <tr>\n",
       "      <th>4</th>\n",
       "      <td>80</td>\n",
       "      <td>25.64</td>\n",
       "      <td>0.46</td>\n",
       "    </tr>\n",
       "    <tr>\n",
       "      <th>5</th>\n",
       "      <td>100</td>\n",
       "      <td>25.53</td>\n",
       "      <td>0.57</td>\n",
       "    </tr>\n",
       "    <tr>\n",
       "      <th>6</th>\n",
       "      <td>120</td>\n",
       "      <td>25.41</td>\n",
       "      <td>0.69</td>\n",
       "    </tr>\n",
       "    <tr>\n",
       "      <th>7</th>\n",
       "      <td>140</td>\n",
       "      <td>25.29</td>\n",
       "      <td>0.81</td>\n",
       "    </tr>\n",
       "    <tr>\n",
       "      <th>8</th>\n",
       "      <td>160</td>\n",
       "      <td>25.16</td>\n",
       "      <td>0.94</td>\n",
       "    </tr>\n",
       "    <tr>\n",
       "      <th>9</th>\n",
       "      <td>180</td>\n",
       "      <td>25.05</td>\n",
       "      <td>1.05</td>\n",
       "    </tr>\n",
       "    <tr>\n",
       "      <th>10</th>\n",
       "      <td>200</td>\n",
       "      <td>24.93</td>\n",
       "      <td>1.17</td>\n",
       "    </tr>\n",
       "    <tr>\n",
       "      <th>11</th>\n",
       "      <td>220</td>\n",
       "      <td>24.81</td>\n",
       "      <td>1.29</td>\n",
       "    </tr>\n",
       "  </tbody>\n",
       "</table>\n",
       "</div>"
      ],
      "text/plain": [
       "      n  D (mm)  ΔD (mm)\n",
       "0     0   26.10     0.00\n",
       "1    20   25.98     0.12\n",
       "2    40   25.86     0.24\n",
       "3    60   25.75     0.35\n",
       "4    80   25.64     0.46\n",
       "5   100   25.53     0.57\n",
       "6   120   25.41     0.69\n",
       "7   140   25.29     0.81\n",
       "8   160   25.16     0.94\n",
       "9   180   25.05     1.05\n",
       "10  200   24.93     1.17\n",
       "11  220   24.81     1.29"
      ]
     },
     "execution_count": 6,
     "metadata": {},
     "output_type": "execute_result"
    }
   ],
   "source": [
    "f = 20\n",
    "data = pd.DataFrame()\n",
    "data['n'] = np.arange(0,221,20)\n",
    "data['D (mm)'] = [26.1, 25.98, 25.86, 25.75, 25.64, 25.53,\n",
    "                 25.41, 25.29, 25.16, 25.05, 24.93, 24.81]\n",
    "data['ΔD (mm)'] = data.loc[0,'D (mm)'] - data['D (mm)'] \n",
    "\n",
    "data.to_csv('green_expanding_diode_laser.csv', index = False)\n",
    "data"
   ]
  },
  {
   "cell_type": "markdown",
   "id": "c6bcce00-ea1c-4e50-9799-c2da1c9197d3",
   "metadata": {},
   "source": [
    "#### $$y = mx$$ \n",
    "#### $$regression$$"
   ]
  },
  {
   "cell_type": "code",
   "execution_count": 7,
   "id": "d3875a9b-bfb1-423d-a178-34cb6692ad6a",
   "metadata": {},
   "outputs": [
    {
     "name": "stdout",
     "output_type": "stream",
     "text": [
      "λ = 5.831027667974102e-07\n"
     ]
    },
    {
     "data": {
      "image/png": "[encoded data removed]",
      "text/plain": [
       "<Figure size 640x480 with 1 Axes>"
      ]
     },
     "metadata": {},
     "output_type": "display_data"
    }
   ],
   "source": [
    "x = data['n'].to_numpy()\n",
    "y = data['ΔD (mm)'].to_numpy()*1e-3\n",
    "\n",
    "def formula(n,λ):\n",
    "    return 0.5*f*λ*n\n",
    "\n",
    "para, para_cov = curve_fit(formula, x, y, [500e-9])\n",
    "λ = para[0]\n",
    "print('λ =', λ)\n",
    "\n",
    "x_reg = np.linspace(0,250,125)\n",
    "y_reg = formula(x_reg, λ)\n",
    "\n",
    "plt.plot(x,y,'.', color = \"red\", label = \"Data\")\n",
    "plt.plot(x_reg,y_reg, '-', color = \"green\", label = \"Regressed\")\n",
    "plt.legend()\n",
    "plt.show()"
   ]
  }
 ],
 "metadata": {
  "kernelspec": {
   "display_name": "Python 3 (ipykernel)",
   "language": "python",
   "name": "python3"
  },
  "language_info": {
   "codemirror_mode": {
    "name": "ipython",
    "version": 3
   },
   "file_extension": ".py",
   "mimetype": "text/x-python",
   "name": "python",
   "nbconvert_exporter": "python",
   "pygments_lexer": "ipython3",
   "version": "3.13.5"
  }
 },
 "nbformat": 4,
 "nbformat_minor": 5
}
